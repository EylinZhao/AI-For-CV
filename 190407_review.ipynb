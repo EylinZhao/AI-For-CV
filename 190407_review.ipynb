{
 "cells": [
  {
   "cell_type": "code",
   "execution_count": 2,
   "metadata": {},
   "outputs": [],
   "source": [
    "import numpy as np\n",
    "import cv2"
   ]
  },
  {
   "cell_type": "code",
   "execution_count": 6,
   "metadata": {},
   "outputs": [
    {
     "data": {
      "text/plain": [
       "(2592, 4608, 3)"
      ]
     },
     "execution_count": 6,
     "metadata": {},
     "output_type": "execute_result"
    }
   ],
   "source": [
    "img = cv2.imread('tree.jpg')\n",
    "cv2.imshow('tree.jpg',img)\n",
    "img.shape"
   ]
  },
  {
   "cell_type": "code",
   "execution_count": 12,
   "metadata": {},
   "outputs": [],
   "source": [
    "#resize\n",
    "img_small=cv2.resize(img,(int(img.shape[1]*0.1),int(img.shape[0]*0.1)))\n",
    "print(img_small.shape)\n",
    "cv2.imshow('tree_small.jpg', img_small)\n",
    "cv2.imwrite('tree_small.jpg', img_small)\n",
    "key = cv2.waitKey()\n",
    "if key == 27:\n",
    "    cv2.destroyAllWindows()"
   ]
  },
  {
   "cell_type": "code",
   "execution_count": 13,
   "metadata": {},
   "outputs": [
    {
     "data": {
      "text/plain": [
       "True"
      ]
     },
     "execution_count": 13,
     "metadata": {},
     "output_type": "execute_result"
    }
   ],
   "source": [
    "#crop\n",
    "tree_left=img_small[:,0:300]\n",
    "cv2.imwrite('tree_small_left.jpg', tree_left)\n",
    "tree_right=img_small[:,200:-1]\n",
    "cv2.imwrite('tree_small_right.jpg', tree_right)"
   ]
  },
  {
   "cell_type": "code",
   "execution_count": 14,
   "metadata": {},
   "outputs": [
    {
     "name": "stdout",
     "output_type": "stream",
     "text": [
      "(259, 300, 3)\n",
      "(259, 259, 3)\n"
     ]
    }
   ],
   "source": [
    "print(tree_left.shape)\n",
    "print(tree_right.shape)"
   ]
  },
  {
   "cell_type": "code",
   "execution_count": 26,
   "metadata": {},
   "outputs": [
    {
     "name": "stdout",
     "output_type": "stream",
     "text": [
      "(958, 128)\n"
     ]
    }
   ],
   "source": [
    "########### SIFT ###########\n",
    "img_left = cv2.imread('tree_small_left.jpg')\n",
    "# create sift class\n",
    "sift= cv2.xfeatures2d.SIFT_create()\n",
    "# detect SIFT\n",
    "kp_left = sift.detect(img_left,None)   # None for mask\n",
    "# compute SIFT descriptor\n",
    "kp_left,des_left = sift.compute(img_left,kp_left)\n",
    "print(des_left.shape)\n",
    "\n",
    "img_left_sift= cv2.drawKeypoints(img_left,kp_left,outImage=np.array([]),\n",
    "                                 flags=cv2.DRAW_MATCHES_FLAGS_DRAW_RICH_KEYPOINTS)\n",
    "cv2.imshow('tree_small_left_sift.jpg', img_left_sift)\n",
    "key = cv2.waitKey()\n",
    "if key == 27:\n",
    "    cv2.destroyAllWindows()"
   ]
  },
  {
   "cell_type": "code",
   "execution_count": 30,
   "metadata": {},
   "outputs": [
    {
     "name": "stdout",
     "output_type": "stream",
     "text": [
      "des_right.shape= (914, 128)\n"
     ]
    }
   ],
   "source": [
    "img_right=cv2.imread('tree_small_right.jpg')\n",
    "kp_right=sift.detect(img_right,None)\n",
    "kp_right,des_right=sift.compute(img_right,kp_right)\n",
    "print('des_right.shape=',des_right.shape)\n",
    "img_right_sift=cv2.drawKeypoints(img_right,kp,outImage=np.array([]),\n",
    "                                flags=cv2.DRAW_MATCHES_FLAGS_DRAW_RICH_KEYPOINTS)\n",
    "cv2.imshow('tree_small_right_sift.jpg', img_right_sift)\n",
    "key = cv2.waitKey()\n",
    "if key == 27:\n",
    "    cv2.destroyAllWindows()"
   ]
  },
  {
   "cell_type": "code",
   "execution_count": 28,
   "metadata": {},
   "outputs": [],
   "source": [
    "kp_right?"
   ]
  },
  {
   "cell_type": "code",
   "execution_count": null,
   "metadata": {},
   "outputs": [],
   "source": []
  }
 ],
 "metadata": {
  "kernelspec": {
   "display_name": "Python 3",
   "language": "python",
   "name": "python3"
  },
  "language_info": {
   "codemirror_mode": {
    "name": "ipython",
    "version": 3
   },
   "file_extension": ".py",
   "mimetype": "text/x-python",
   "name": "python",
   "nbconvert_exporter": "python",
   "pygments_lexer": "ipython3",
   "version": "3.6.8"
  }
 },
 "nbformat": 4,
 "nbformat_minor": 2
}
